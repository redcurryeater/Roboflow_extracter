{
 "cells": [
  {
   "cell_type": "code",
   "execution_count": 1,
   "id": "be3f5d2a",
   "metadata": {},
   "outputs": [],
   "source": [
    "import pandas as pd\n",
    "import numpy as np\n",
    "import matplotlib.pyplot as plt\n",
    "import seaborn as sns\n",
    "%matplotlib inline\n",
    "from twill import browser \n",
    "from selenium import webdriver\n",
    "from selenium.webdriver.common.keys import Keys\n",
    "from selenium.webdriver.common.by import By\n"
   ]
  },
  {
   "cell_type": "code",
   "execution_count": 2,
   "id": "ad725a01",
   "metadata": {},
   "outputs": [],
   "source": [
    "from urllib.request import urlopen\n",
    "from bs4 import BeautifulSoup"
   ]
  },
  {
   "cell_type": "code",
   "execution_count": 3,
   "id": "be9771c7",
   "metadata": {},
   "outputs": [],
   "source": [
    "url = \"https://universe.roboflow.com/browse/object-detection\"\n",
    "html = urlopen(url)"
   ]
  },
  {
   "cell_type": "code",
   "execution_count": 4,
   "id": "ddafe148",
   "metadata": {
    "scrolled": true
   },
   "outputs": [
    {
     "data": {
      "text/plain": [
       "bs4.BeautifulSoup"
      ]
     },
     "execution_count": 4,
     "metadata": {},
     "output_type": "execute_result"
    }
   ],
   "source": [
    "soup = BeautifulSoup(html, 'lxml')\n",
    "type(soup)"
   ]
  },
  {
   "cell_type": "code",
   "execution_count": 5,
   "id": "f295770a",
   "metadata": {},
   "outputs": [
    {
     "name": "stdout",
     "output_type": "stream",
     "text": [
      "<title>Object Detection image and video datasets for detection and recognition</title>\n"
     ]
    }
   ],
   "source": [
    "title = soup.title\n",
    "print(title)"
   ]
  },
  {
   "cell_type": "code",
   "execution_count": 6,
   "id": "b4e9f455",
   "metadata": {},
   "outputs": [],
   "source": [
    "bruh = []\n",
    "tip = []\n",
    "df = pd.DataFrame()\n",
    "for link in soup.find_all('a'): \n",
    "    #print(link.get('href'), link.get('class'))\n",
    "    bruh.append(link.get('href'))\n",
    "    tip.append(link.get('class'))"
   ]
  },
  {
   "cell_type": "code",
   "execution_count": 7,
   "id": "64d24c2b",
   "metadata": {},
   "outputs": [],
   "source": [
    "d = {\"Link\": bruh, \"Class\": tip}"
   ]
  },
  {
   "cell_type": "code",
   "execution_count": 8,
   "id": "8092c637",
   "metadata": {},
   "outputs": [],
   "source": [
    "df = pd.DataFrame(d)"
   ]
  },
  {
   "cell_type": "code",
   "execution_count": 9,
   "id": "cc7eafe1",
   "metadata": {},
   "outputs": [],
   "source": [
    "for i in range(df.shape[0], 0, -1):\n",
    "    if df.iloc[i-1, 1] != [\"explicit\"]:\n",
    "        df.drop(df.index[i-1], inplace = True)\n",
    "df.reset_index(inplace = True, drop = True)"
   ]
  },
  {
   "cell_type": "code",
   "execution_count": 10,
   "id": "f87d6d53",
   "metadata": {},
   "outputs": [
    {
     "data": {
      "text/html": [
       "<div>\n",
       "<style scoped>\n",
       "    .dataframe tbody tr th:only-of-type {\n",
       "        vertical-align: middle;\n",
       "    }\n",
       "\n",
       "    .dataframe tbody tr th {\n",
       "        vertical-align: top;\n",
       "    }\n",
       "\n",
       "    .dataframe thead th {\n",
       "        text-align: right;\n",
       "    }\n",
       "</style>\n",
       "<table border=\"1\" class=\"dataframe\">\n",
       "  <thead>\n",
       "    <tr style=\"text-align: right;\">\n",
       "      <th></th>\n",
       "      <th>Link</th>\n",
       "      <th>Class</th>\n",
       "    </tr>\n",
       "  </thead>\n",
       "  <tbody>\n",
       "    <tr>\n",
       "      <th>0</th>\n",
       "      <td>https://universe.roboflow.com/brad-dwyer/oxfor...</td>\n",
       "      <td>[explicit]</td>\n",
       "    </tr>\n",
       "    <tr>\n",
       "      <th>1</th>\n",
       "      <td>https://universe.roboflow.com/augmented-startu...</td>\n",
       "      <td>[explicit]</td>\n",
       "    </tr>\n",
       "    <tr>\n",
       "      <th>2</th>\n",
       "      <td>https://universe.roboflow.com/peterjbloch-gmai...</td>\n",
       "      <td>[explicit]</td>\n",
       "    </tr>\n",
       "    <tr>\n",
       "      <th>3</th>\n",
       "      <td>https://universe.roboflow.com/roboflow-gw7yv/r...</td>\n",
       "      <td>[explicit]</td>\n",
       "    </tr>\n",
       "    <tr>\n",
       "      <th>4</th>\n",
       "      <td>https://universe.roboflow.com/jacob-solawetz/a...</td>\n",
       "      <td>[explicit]</td>\n",
       "    </tr>\n",
       "  </tbody>\n",
       "</table>\n",
       "</div>"
      ],
      "text/plain": [
       "                                                Link       Class\n",
       "0  https://universe.roboflow.com/brad-dwyer/oxfor...  [explicit]\n",
       "1  https://universe.roboflow.com/augmented-startu...  [explicit]\n",
       "2  https://universe.roboflow.com/peterjbloch-gmai...  [explicit]\n",
       "3  https://universe.roboflow.com/roboflow-gw7yv/r...  [explicit]\n",
       "4  https://universe.roboflow.com/jacob-solawetz/a...  [explicit]"
      ]
     },
     "execution_count": 10,
     "metadata": {},
     "output_type": "execute_result"
    }
   ],
   "source": [
    "export = \"/export\"\n",
    "base_url = \"https://universe.roboflow.com\"\n",
    "for i in range (df.shape[0]):\n",
    "    df[\"Link\"][i] = base_url+df[\"Link\"][i]+export\n",
    "df.head()"
   ]
  },
  {
   "cell_type": "code",
   "execution_count": 11,
   "id": "07df9566",
   "metadata": {},
   "outputs": [],
   "source": [
    "from selenium.webdriver.support.ui import WebDriverWait\n",
    "from selenium.webdriver.support import expected_conditions as EC"
   ]
  },
  {
   "cell_type": "code",
   "execution_count": 13,
   "id": "f791470b",
   "metadata": {},
   "outputs": [
    {
     "name": "stderr",
     "output_type": "stream",
     "text": [
      "<ipython-input-13-92d204438c0f>:4: DeprecationWarning: executable_path has been deprecated, please pass in a Service object\n",
      "  driver = webdriver.Chrome(executable_path = 'C:/Users/julie/Downloads/chromedriver_win32/chromedriver.exe')\n"
     ]
    }
   ],
   "source": [
    "#for i in range (df.shape[0]):\n",
    "url_1 = df[\"Link\"][1]\n",
    "\n",
    "driver = webdriver.Chrome(executable_path = 'C:/Users/julie/Downloads/chromedriver_win32/chromedriver.exe')\n",
    "driver.get(url_1)\n",
    "driver.maximize_window()\n",
    "\n",
    "sign_in = WebDriverWait(driver, 20).until(EC.element_to_be_clickable((By.XPATH, '//*[@id=\"message\"]/div/div[1]/form/ul/li[1]/button')))\n",
    "sign_in.click()\n",
    "\n",
    "email = WebDriverWait(driver, 20).until(EC.element_to_be_clickable((By.NAME, 'email')))\n",
    "email.send_keys(\"pythonproject809@gmail.com\")\n",
    "\n",
    "next1 = WebDriverWait(driver, 20).until(EC.element_to_be_clickable((By.XPATH, '//*[@id=\"message\"]/div/form/div[3]/div/button[2]')))\n",
    "next1.click()\n",
    "\n",
    "password = WebDriverWait(driver, 20).until(EC.element_to_be_clickable((By.NAME, 'password')))\n",
    "password.send_keys(\"Roboflowed22\")\n",
    "\n",
    "sign_final = WebDriverWait(driver, 20).until(EC.element_to_be_clickable((By.XPATH, '//*[@id=\"message\"]/div/form/div[3]/div[2]/button')))\n",
    "sign_final.click()\n",
    "#button = driver.find_element(By.XPATH, '//*[@id=\"message\"]/div/div[1]/form/ul/li[1]/button') \n",
    "\n",
    "downloadzip = WebDriverWait(driver, 20).until(EC.element_to_be_clickable((By.NAME, 'where')))\n",
    "downloadzip.click()\n",
    "\n",
    "\n",
    "\n",
    "select_dropdown = WebDriverWait(driver, 20).until(EC.element_to_be_clickable((By.XPATH, '//*[@id=\"exportFormat\"]')))\n",
    "select_dropdown.click()\n",
    "\n",
    "export_type = WebDriverWait(driver, 20).until(EC.element_to_be_clickable((By.XPATH, '//*[@id=\"exportFormat\"]/optgroup[3]/option[3]')))\n",
    "export_type.click()\n",
    "\n",
    "continue_press = WebDriverWait(driver, 20).until(EC.element_to_be_clickable((By.XPATH, '/html/body/div[3]/div/div[3]/button[2]')))\n",
    "continue_press.click()"
   ]
  },
  {
   "cell_type": "code",
   "execution_count": null,
   "id": "eff89b36",
   "metadata": {},
   "outputs": [],
   "source": []
  },
  {
   "cell_type": "code",
   "execution_count": null,
   "id": "e4e5ab7f",
   "metadata": {},
   "outputs": [],
   "source": []
  }
 ],
 "metadata": {
  "kernelspec": {
   "display_name": "Python 3",
   "language": "python",
   "name": "python3"
  },
  "language_info": {
   "codemirror_mode": {
    "name": "ipython",
    "version": 3
   },
   "file_extension": ".py",
   "mimetype": "text/x-python",
   "name": "python",
   "nbconvert_exporter": "python",
   "pygments_lexer": "ipython3",
   "version": "3.9.12"
  }
 },
 "nbformat": 4,
 "nbformat_minor": 5
}
